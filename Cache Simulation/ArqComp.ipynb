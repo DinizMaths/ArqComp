{
 "cells": [
  {
   "cell_type": "markdown",
   "id": "7b9bc71c",
   "metadata": {},
   "source": [
    "# Importando bibliotecas"
   ]
  },
  {
   "cell_type": "code",
   "execution_count": 220,
   "id": "9d2ecb7c",
   "metadata": {},
   "outputs": [],
   "source": [
    "import numpy  as np\n",
    "import pandas as pd\n",
    "\n",
    "import matplotlib.pyplot as plt\n",
    "import seaborn           as sns"
   ]
  },
  {
   "cell_type": "markdown",
   "id": "a87ee0ac",
   "metadata": {},
   "source": [
    "# Padrão de cores seaborn"
   ]
  },
  {
   "cell_type": "code",
   "execution_count": 221,
   "id": "95f6b953",
   "metadata": {},
   "outputs": [],
   "source": [
    "sns.set_theme()"
   ]
  },
  {
   "cell_type": "markdown",
   "id": "b785ffab",
   "metadata": {},
   "source": [
    "# Funções para auxiliar na manipulação"
   ]
  },
  {
   "cell_type": "code",
   "execution_count": 222,
   "id": "0574086e",
   "metadata": {},
   "outputs": [],
   "source": [
    "def dec_to_bin(num, mem_size=13):\n",
    "    initial = '0'*(mem_size - len(bin(num).replace('0b', ''))) # preenche com 0 'casas iniciais'\n",
    "    \n",
    "    return (initial + bin(num).replace('0b', ''))\n",
    "\n",
    "def bin_to_dec(num):\n",
    "    return int(num, base=2)\n",
    "\n",
    "def decompose(address, tag_size, line_size):\n",
    "    return {\n",
    "        'Tag':  address[ : tag_size],                        # [0, tag_size)\n",
    "        'Line': address[tag_size : line_size + tag_size],    # [tag_size, line_size + tag_size)\n",
    "        'Word': address[line_size + tag_size : len(address)] # [line_size + tag_size, len(address))\n",
    "    }"
   ]
  },
  {
   "cell_type": "markdown",
   "id": "1ab8c42d",
   "metadata": {},
   "source": [
    "# Aquisição de endereços"
   ]
  },
  {
   "cell_type": "code",
   "execution_count": 223,
   "id": "a1fcf7f9",
   "metadata": {
    "scrolled": false
   },
   "outputs": [
    {
     "data": {
      "text/html": [
       "<div>\n",
       "<style scoped>\n",
       "    .dataframe tbody tr th:only-of-type {\n",
       "        vertical-align: middle;\n",
       "    }\n",
       "\n",
       "    .dataframe tbody tr th {\n",
       "        vertical-align: top;\n",
       "    }\n",
       "\n",
       "    .dataframe thead th {\n",
       "        text-align: right;\n",
       "    }\n",
       "</style>\n",
       "<table border=\"1\" class=\"dataframe\">\n",
       "  <thead>\n",
       "    <tr style=\"text-align: right;\">\n",
       "      <th></th>\n",
       "      <th>enderecos</th>\n",
       "    </tr>\n",
       "  </thead>\n",
       "  <tbody>\n",
       "    <tr>\n",
       "      <th>0</th>\n",
       "      <td>0</td>\n",
       "    </tr>\n",
       "    <tr>\n",
       "      <th>1</th>\n",
       "      <td>1</td>\n",
       "    </tr>\n",
       "    <tr>\n",
       "      <th>2</th>\n",
       "      <td>2</td>\n",
       "    </tr>\n",
       "    <tr>\n",
       "      <th>3</th>\n",
       "      <td>3</td>\n",
       "    </tr>\n",
       "    <tr>\n",
       "      <th>4</th>\n",
       "      <td>4</td>\n",
       "    </tr>\n",
       "    <tr>\n",
       "      <th>...</th>\n",
       "      <td>...</td>\n",
       "    </tr>\n",
       "    <tr>\n",
       "      <th>11695</th>\n",
       "      <td>6719</td>\n",
       "    </tr>\n",
       "    <tr>\n",
       "      <th>11696</th>\n",
       "      <td>6720</td>\n",
       "    </tr>\n",
       "    <tr>\n",
       "      <th>11697</th>\n",
       "      <td>6721</td>\n",
       "    </tr>\n",
       "    <tr>\n",
       "      <th>11698</th>\n",
       "      <td>6722</td>\n",
       "    </tr>\n",
       "    <tr>\n",
       "      <th>11699</th>\n",
       "      <td>6723</td>\n",
       "    </tr>\n",
       "  </tbody>\n",
       "</table>\n",
       "<p>11700 rows × 1 columns</p>\n",
       "</div>"
      ],
      "text/plain": [
       "       enderecos\n",
       "0              0\n",
       "1              1\n",
       "2              2\n",
       "3              3\n",
       "4              4\n",
       "...          ...\n",
       "11695       6719\n",
       "11696       6720\n",
       "11697       6721\n",
       "11698       6722\n",
       "11699       6723\n",
       "\n",
       "[11700 rows x 1 columns]"
      ]
     },
     "execution_count": 223,
     "metadata": {},
     "output_type": "execute_result"
    }
   ],
   "source": [
    "main_memory = pd.read_csv('https://raw.githubusercontent.com/DinizMaths/ArqComp/main/Cache%20Simulation/enderecos.dat', sep='::', engine='python', header=None).rename(columns = {0: 'enderecos'})\n",
    "\n",
    "main_memory"
   ]
  },
  {
   "cell_type": "code",
   "execution_count": 224,
   "id": "d442a2ba",
   "metadata": {},
   "outputs": [
    {
     "data": {
      "text/plain": [
       "6724"
      ]
     },
     "execution_count": 224,
     "metadata": {},
     "output_type": "execute_result"
    }
   ],
   "source": [
    "len(main_memory['enderecos'].unique())"
   ]
  },
  {
   "cell_type": "markdown",
   "id": "9430d520",
   "metadata": {},
   "source": [
    "# Simulações"
   ]
  },
  {
   "cell_type": "markdown",
   "id": "3cd80b40",
   "metadata": {},
   "source": [
    "## Memória com mapeamento direto"
   ]
  },
  {
   "cell_type": "code",
   "execution_count": 225,
   "id": "a4c07f79",
   "metadata": {
    "scrolled": false
   },
   "outputs": [
    {
     "data": {
      "text/html": [
       "<div>\n",
       "<style scoped>\n",
       "    .dataframe tbody tr th:only-of-type {\n",
       "        vertical-align: middle;\n",
       "    }\n",
       "\n",
       "    .dataframe tbody tr th {\n",
       "        vertical-align: top;\n",
       "    }\n",
       "\n",
       "    .dataframe thead th {\n",
       "        text-align: right;\n",
       "    }\n",
       "</style>\n",
       "<table border=\"1\" class=\"dataframe\">\n",
       "  <thead>\n",
       "    <tr style=\"text-align: right;\">\n",
       "      <th></th>\n",
       "      <th>Tag</th>\n",
       "      <th>Line</th>\n",
       "      <th>Word</th>\n",
       "    </tr>\n",
       "  </thead>\n",
       "  <tbody>\n",
       "    <tr>\n",
       "      <th>0</th>\n",
       "      <td>000</td>\n",
       "      <td>00000000</td>\n",
       "      <td>00</td>\n",
       "    </tr>\n",
       "    <tr>\n",
       "      <th>1</th>\n",
       "      <td>000</td>\n",
       "      <td>00000000</td>\n",
       "      <td>01</td>\n",
       "    </tr>\n",
       "    <tr>\n",
       "      <th>2</th>\n",
       "      <td>000</td>\n",
       "      <td>00000000</td>\n",
       "      <td>10</td>\n",
       "    </tr>\n",
       "    <tr>\n",
       "      <th>3</th>\n",
       "      <td>000</td>\n",
       "      <td>00000000</td>\n",
       "      <td>11</td>\n",
       "    </tr>\n",
       "    <tr>\n",
       "      <th>4</th>\n",
       "      <td>000</td>\n",
       "      <td>00000001</td>\n",
       "      <td>00</td>\n",
       "    </tr>\n",
       "    <tr>\n",
       "      <th>...</th>\n",
       "      <td>...</td>\n",
       "      <td>...</td>\n",
       "      <td>...</td>\n",
       "    </tr>\n",
       "    <tr>\n",
       "      <th>11695</th>\n",
       "      <td>110</td>\n",
       "      <td>10001111</td>\n",
       "      <td>11</td>\n",
       "    </tr>\n",
       "    <tr>\n",
       "      <th>11696</th>\n",
       "      <td>110</td>\n",
       "      <td>10010000</td>\n",
       "      <td>00</td>\n",
       "    </tr>\n",
       "    <tr>\n",
       "      <th>11697</th>\n",
       "      <td>110</td>\n",
       "      <td>10010000</td>\n",
       "      <td>01</td>\n",
       "    </tr>\n",
       "    <tr>\n",
       "      <th>11698</th>\n",
       "      <td>110</td>\n",
       "      <td>10010000</td>\n",
       "      <td>10</td>\n",
       "    </tr>\n",
       "    <tr>\n",
       "      <th>11699</th>\n",
       "      <td>110</td>\n",
       "      <td>10010000</td>\n",
       "      <td>11</td>\n",
       "    </tr>\n",
       "  </tbody>\n",
       "</table>\n",
       "<p>11700 rows × 3 columns</p>\n",
       "</div>"
      ],
      "text/plain": [
       "       Tag      Line Word\n",
       "0      000  00000000   00\n",
       "1      000  00000000   01\n",
       "2      000  00000000   10\n",
       "3      000  00000000   11\n",
       "4      000  00000001   00\n",
       "...    ...       ...  ...\n",
       "11695  110  10001111   11\n",
       "11696  110  10010000   00\n",
       "11697  110  10010000   01\n",
       "11698  110  10010000   10\n",
       "11699  110  10010000   11\n",
       "\n",
       "[11700 rows x 3 columns]"
      ]
     },
     "execution_count": 225,
     "metadata": {},
     "output_type": "execute_result"
    }
   ],
   "source": [
    "main_memory_bin = pd.DataFrame([decompose(address, 3, 8) for address in main_memory['enderecos'].map(dec_to_bin)])\n",
    "\n",
    "main_memory_bin"
   ]
  },
  {
   "cell_type": "code",
   "execution_count": 226,
   "id": "1a0c1b55",
   "metadata": {
    "scrolled": false
   },
   "outputs": [
    {
     "data": {
      "text/html": [
       "<div>\n",
       "<style scoped>\n",
       "    .dataframe tbody tr th:only-of-type {\n",
       "        vertical-align: middle;\n",
       "    }\n",
       "\n",
       "    .dataframe tbody tr th {\n",
       "        vertical-align: top;\n",
       "    }\n",
       "\n",
       "    .dataframe thead th {\n",
       "        text-align: right;\n",
       "    }\n",
       "</style>\n",
       "<table border=\"1\" class=\"dataframe\">\n",
       "  <thead>\n",
       "    <tr style=\"text-align: right;\">\n",
       "      <th></th>\n",
       "      <th>Tag</th>\n",
       "    </tr>\n",
       "  </thead>\n",
       "  <tbody>\n",
       "    <tr>\n",
       "      <th>0</th>\n",
       "      <td>NaN</td>\n",
       "    </tr>\n",
       "    <tr>\n",
       "      <th>1</th>\n",
       "      <td>NaN</td>\n",
       "    </tr>\n",
       "    <tr>\n",
       "      <th>2</th>\n",
       "      <td>NaN</td>\n",
       "    </tr>\n",
       "    <tr>\n",
       "      <th>3</th>\n",
       "      <td>NaN</td>\n",
       "    </tr>\n",
       "    <tr>\n",
       "      <th>4</th>\n",
       "      <td>NaN</td>\n",
       "    </tr>\n",
       "    <tr>\n",
       "      <th>...</th>\n",
       "      <td>...</td>\n",
       "    </tr>\n",
       "    <tr>\n",
       "      <th>251</th>\n",
       "      <td>NaN</td>\n",
       "    </tr>\n",
       "    <tr>\n",
       "      <th>252</th>\n",
       "      <td>NaN</td>\n",
       "    </tr>\n",
       "    <tr>\n",
       "      <th>253</th>\n",
       "      <td>NaN</td>\n",
       "    </tr>\n",
       "    <tr>\n",
       "      <th>254</th>\n",
       "      <td>NaN</td>\n",
       "    </tr>\n",
       "    <tr>\n",
       "      <th>255</th>\n",
       "      <td>NaN</td>\n",
       "    </tr>\n",
       "  </tbody>\n",
       "</table>\n",
       "<p>256 rows × 1 columns</p>\n",
       "</div>"
      ],
      "text/plain": [
       "     Tag\n",
       "0    NaN\n",
       "1    NaN\n",
       "2    NaN\n",
       "3    NaN\n",
       "4    NaN\n",
       "..   ...\n",
       "251  NaN\n",
       "252  NaN\n",
       "253  NaN\n",
       "254  NaN\n",
       "255  NaN\n",
       "\n",
       "[256 rows x 1 columns]"
      ]
     },
     "execution_count": 226,
     "metadata": {},
     "output_type": "execute_result"
    }
   ],
   "source": [
    "cache = pd.DataFrame([np.nan] * 256, columns=['Tag'])\n",
    "\n",
    "cache"
   ]
  },
  {
   "cell_type": "code",
   "execution_count": 227,
   "id": "4f56c9dd",
   "metadata": {},
   "outputs": [],
   "source": [
    "hit  = 0\n",
    "miss = 0\n",
    "\n",
    "for memory_line in range(len(main_memory_bin)):\n",
    "    cache_line = bin_to_dec(main_memory_bin.iloc[memory_line]['Line'])\n",
    "    \n",
    "    if cache['Tag'].iloc[cache_line] == main_memory_bin.iloc[memory_line]['Tag']:\n",
    "        hit += 1\n",
    "    else:\n",
    "        cache['Tag'].iloc[cache_line] = main_memory_bin.iloc[memory_line]['Tag']\n",
    "        miss += 1"
   ]
  },
  {
   "cell_type": "code",
   "execution_count": 228,
   "id": "79e5cb3f",
   "metadata": {},
   "outputs": [
    {
     "name": "stdout",
     "output_type": "stream",
     "text": [
      "=========================\n",
      "Total de acessos: 11700\n",
      "Total de acertos: 10019\n",
      "Total de erros: 1681\n",
      "=========================\n"
     ]
    }
   ],
   "source": [
    "print('=' * 25)\n",
    "print(f'Total de acessos: {hit + miss}')\n",
    "print(f'Total de acertos: {hit}')\n",
    "print(f'Total de erros: {miss}')\n",
    "print('=' * 25)"
   ]
  },
  {
   "cell_type": "code",
   "execution_count": 229,
   "id": "2e9a1d50",
   "metadata": {},
   "outputs": [
    {
     "data": {
      "image/png": "[encoded data removed]",
      "text/plain": [
       "<Figure size 1152x576 with 1 Axes>"
      ]
     },
     "metadata": {},
     "output_type": "display_data"
    }
   ],
   "source": [
    "fig, ax = plt.subplots(figsize=(16, 8))\n",
    "ax.bar(['hit', 'miss'], [hit, miss], color=['#83EFEF', '#FF7B7B'])\n",
    "\n",
    "ax.text('hit', hit/2-200, hit, ha='center', size=20)\n",
    "ax.text('miss', miss/2-200, miss, ha='center', size=20)\n",
    "ax.set_title('Cache com Mapeamento Direto', fontsize=20)\n",
    "\n",
    "plt.xticks(fontsize=16)\n",
    "plt.show()"
   ]
  },
  {
   "cell_type": "markdown",
   "id": "e36c16c4",
   "metadata": {},
   "source": [
    "## Memória com mapeamento associativo em conjunto de 2 vias"
   ]
  },
  {
   "cell_type": "code",
   "execution_count": 230,
   "id": "dcf10ea9",
   "metadata": {},
   "outputs": [
    {
     "data": {
      "text/html": [
       "<div>\n",
       "<style scoped>\n",
       "    .dataframe tbody tr th:only-of-type {\n",
       "        vertical-align: middle;\n",
       "    }\n",
       "\n",
       "    .dataframe tbody tr th {\n",
       "        vertical-align: top;\n",
       "    }\n",
       "\n",
       "    .dataframe thead th {\n",
       "        text-align: right;\n",
       "    }\n",
       "</style>\n",
       "<table border=\"1\" class=\"dataframe\">\n",
       "  <thead>\n",
       "    <tr style=\"text-align: right;\">\n",
       "      <th></th>\n",
       "      <th>Tag</th>\n",
       "      <th>Line</th>\n",
       "      <th>Word</th>\n",
       "    </tr>\n",
       "  </thead>\n",
       "  <tbody>\n",
       "    <tr>\n",
       "      <th>0</th>\n",
       "      <td>0000</td>\n",
       "      <td>0000000</td>\n",
       "      <td>00</td>\n",
       "    </tr>\n",
       "    <tr>\n",
       "      <th>1</th>\n",
       "      <td>0000</td>\n",
       "      <td>0000000</td>\n",
       "      <td>01</td>\n",
       "    </tr>\n",
       "    <tr>\n",
       "      <th>2</th>\n",
       "      <td>0000</td>\n",
       "      <td>0000000</td>\n",
       "      <td>10</td>\n",
       "    </tr>\n",
       "    <tr>\n",
       "      <th>3</th>\n",
       "      <td>0000</td>\n",
       "      <td>0000000</td>\n",
       "      <td>11</td>\n",
       "    </tr>\n",
       "    <tr>\n",
       "      <th>4</th>\n",
       "      <td>0000</td>\n",
       "      <td>0000001</td>\n",
       "      <td>00</td>\n",
       "    </tr>\n",
       "    <tr>\n",
       "      <th>...</th>\n",
       "      <td>...</td>\n",
       "      <td>...</td>\n",
       "      <td>...</td>\n",
       "    </tr>\n",
       "    <tr>\n",
       "      <th>11695</th>\n",
       "      <td>1101</td>\n",
       "      <td>0001111</td>\n",
       "      <td>11</td>\n",
       "    </tr>\n",
       "    <tr>\n",
       "      <th>11696</th>\n",
       "      <td>1101</td>\n",
       "      <td>0010000</td>\n",
       "      <td>00</td>\n",
       "    </tr>\n",
       "    <tr>\n",
       "      <th>11697</th>\n",
       "      <td>1101</td>\n",
       "      <td>0010000</td>\n",
       "      <td>01</td>\n",
       "    </tr>\n",
       "    <tr>\n",
       "      <th>11698</th>\n",
       "      <td>1101</td>\n",
       "      <td>0010000</td>\n",
       "      <td>10</td>\n",
       "    </tr>\n",
       "    <tr>\n",
       "      <th>11699</th>\n",
       "      <td>1101</td>\n",
       "      <td>0010000</td>\n",
       "      <td>11</td>\n",
       "    </tr>\n",
       "  </tbody>\n",
       "</table>\n",
       "<p>11700 rows × 3 columns</p>\n",
       "</div>"
      ],
      "text/plain": [
       "        Tag     Line Word\n",
       "0      0000  0000000   00\n",
       "1      0000  0000000   01\n",
       "2      0000  0000000   10\n",
       "3      0000  0000000   11\n",
       "4      0000  0000001   00\n",
       "...     ...      ...  ...\n",
       "11695  1101  0001111   11\n",
       "11696  1101  0010000   00\n",
       "11697  1101  0010000   01\n",
       "11698  1101  0010000   10\n",
       "11699  1101  0010000   11\n",
       "\n",
       "[11700 rows x 3 columns]"
      ]
     },
     "execution_count": 230,
     "metadata": {},
     "output_type": "execute_result"
    }
   ],
   "source": [
    "main_memory_bin = pd.DataFrame([decompose(address, 4, 7) for address in main_memory['enderecos'].map(dec_to_bin)])\n",
    "\n",
    "main_memory_bin"
   ]
  },
  {
   "cell_type": "code",
   "execution_count": 231,
   "id": "798c373e",
   "metadata": {
    "scrolled": false
   },
   "outputs": [
    {
     "data": {
      "text/html": [
       "<div>\n",
       "<style scoped>\n",
       "    .dataframe tbody tr th:only-of-type {\n",
       "        vertical-align: middle;\n",
       "    }\n",
       "\n",
       "    .dataframe tbody tr th {\n",
       "        vertical-align: top;\n",
       "    }\n",
       "\n",
       "    .dataframe thead tr th {\n",
       "        text-align: left;\n",
       "    }\n",
       "</style>\n",
       "<table border=\"1\" class=\"dataframe\">\n",
       "  <thead>\n",
       "    <tr>\n",
       "      <th></th>\n",
       "      <th colspan=\"2\" halign=\"left\">Set0</th>\n",
       "      <th colspan=\"2\" halign=\"left\">Set1</th>\n",
       "    </tr>\n",
       "    <tr>\n",
       "      <th></th>\n",
       "      <th>RefBit</th>\n",
       "      <th>Tag</th>\n",
       "      <th>RefBit</th>\n",
       "      <th>Tag</th>\n",
       "    </tr>\n",
       "  </thead>\n",
       "  <tbody>\n",
       "    <tr>\n",
       "      <th>0</th>\n",
       "      <td>0</td>\n",
       "      <td>NaN</td>\n",
       "      <td>0</td>\n",
       "      <td>NaN</td>\n",
       "    </tr>\n",
       "    <tr>\n",
       "      <th>1</th>\n",
       "      <td>0</td>\n",
       "      <td>NaN</td>\n",
       "      <td>0</td>\n",
       "      <td>NaN</td>\n",
       "    </tr>\n",
       "    <tr>\n",
       "      <th>2</th>\n",
       "      <td>0</td>\n",
       "      <td>NaN</td>\n",
       "      <td>0</td>\n",
       "      <td>NaN</td>\n",
       "    </tr>\n",
       "    <tr>\n",
       "      <th>3</th>\n",
       "      <td>0</td>\n",
       "      <td>NaN</td>\n",
       "      <td>0</td>\n",
       "      <td>NaN</td>\n",
       "    </tr>\n",
       "    <tr>\n",
       "      <th>4</th>\n",
       "      <td>0</td>\n",
       "      <td>NaN</td>\n",
       "      <td>0</td>\n",
       "      <td>NaN</td>\n",
       "    </tr>\n",
       "    <tr>\n",
       "      <th>...</th>\n",
       "      <td>...</td>\n",
       "      <td>...</td>\n",
       "      <td>...</td>\n",
       "      <td>...</td>\n",
       "    </tr>\n",
       "    <tr>\n",
       "      <th>251</th>\n",
       "      <td>0</td>\n",
       "      <td>NaN</td>\n",
       "      <td>0</td>\n",
       "      <td>NaN</td>\n",
       "    </tr>\n",
       "    <tr>\n",
       "      <th>252</th>\n",
       "      <td>0</td>\n",
       "      <td>NaN</td>\n",
       "      <td>0</td>\n",
       "      <td>NaN</td>\n",
       "    </tr>\n",
       "    <tr>\n",
       "      <th>253</th>\n",
       "      <td>0</td>\n",
       "      <td>NaN</td>\n",
       "      <td>0</td>\n",
       "      <td>NaN</td>\n",
       "    </tr>\n",
       "    <tr>\n",
       "      <th>254</th>\n",
       "      <td>0</td>\n",
       "      <td>NaN</td>\n",
       "      <td>0</td>\n",
       "      <td>NaN</td>\n",
       "    </tr>\n",
       "    <tr>\n",
       "      <th>255</th>\n",
       "      <td>0</td>\n",
       "      <td>NaN</td>\n",
       "      <td>0</td>\n",
       "      <td>NaN</td>\n",
       "    </tr>\n",
       "  </tbody>\n",
       "</table>\n",
       "<p>256 rows × 4 columns</p>\n",
       "</div>"
      ],
      "text/plain": [
       "      Set0       Set1    \n",
       "    RefBit Tag RefBit Tag\n",
       "0        0 NaN      0 NaN\n",
       "1        0 NaN      0 NaN\n",
       "2        0 NaN      0 NaN\n",
       "3        0 NaN      0 NaN\n",
       "4        0 NaN      0 NaN\n",
       "..     ...  ..    ...  ..\n",
       "251      0 NaN      0 NaN\n",
       "252      0 NaN      0 NaN\n",
       "253      0 NaN      0 NaN\n",
       "254      0 NaN      0 NaN\n",
       "255      0 NaN      0 NaN\n",
       "\n",
       "[256 rows x 4 columns]"
      ]
     },
     "execution_count": 231,
     "metadata": {},
     "output_type": "execute_result"
    }
   ],
   "source": [
    "cache = pd.DataFrame([[0, np.nan, 0, np.nan]] * 128 * 2, columns=pd.MultiIndex.from_product([['Set0', 'Set1'], ['RefBit', 'Tag']]))\n",
    "\n",
    "cache"
   ]
  },
  {
   "cell_type": "code",
   "execution_count": 232,
   "id": "e712ad04",
   "metadata": {},
   "outputs": [],
   "source": [
    "hit  = 0\n",
    "miss = 0\n",
    "\n",
    "for memory_line in range(len(main_memory_bin)):\n",
    "    cache_set = bin_to_dec(main_memory_bin.iloc[memory_line]['Line'])\n",
    "    tag = main_memory_bin.iloc[memory_line]['Tag']\n",
    "    \n",
    "    if cache.loc[cache_set, ('Set0', 'Tag')] == tag:\n",
    "        cache.loc[cache_set, ('Set0', 'RefBit')] = 1\n",
    "        hit += 1\n",
    "        \n",
    "    elif cache.loc[cache_set, ('Set1', 'Tag')] == tag:\n",
    "        cache.loc[cache_set, ('Set1', 'RefBit')] = 1\n",
    "        hit += 1\n",
    "    \n",
    "    elif cache.loc[cache_set, ('Set0', 'RefBit')] == 0:\n",
    "        cache.loc[cache_set, ('Set0', 'Tag')] = tag\n",
    "        cache.loc[cache_set, ('Set0', 'RefBit')] = 1\n",
    "        cache.loc[cache_set, ('Set1', 'RefBit')] = 0\n",
    "        miss += 1\n",
    "        \n",
    "    else:\n",
    "        cache.loc[cache_set, ('Set1', 'Tag')] = tag\n",
    "        cache.loc[cache_set, ('Set1', 'RefBit')] = 1\n",
    "        cache.loc[cache_set, ('Set0', 'RefBit')] = 0\n",
    "        miss += 1"
   ]
  },
  {
   "cell_type": "code",
   "execution_count": 233,
   "id": "53143076",
   "metadata": {},
   "outputs": [
    {
     "name": "stdout",
     "output_type": "stream",
     "text": [
      "=========================\n",
      "Total de acessos: 11700\n",
      "Total de acertos: 10019\n",
      "Total de erros: 1681\n",
      "=========================\n"
     ]
    }
   ],
   "source": [
    "print('=' * 25)\n",
    "print(f'Total de acessos: {hit + miss}')\n",
    "print(f'Total de acertos: {hit}')\n",
    "print(f'Total de erros: {miss}')\n",
    "print('=' * 25)"
   ]
  },
  {
   "cell_type": "code",
   "execution_count": 235,
   "id": "721fc8c9",
   "metadata": {},
   "outputs": [
    {
     "data": {
      "image/png": "[encoded data removed]",
      "text/plain": [
       "<Figure size 1152x576 with 1 Axes>"
      ]
     },
     "metadata": {},
     "output_type": "display_data"
    }
   ],
   "source": [
    "fig, ax = plt.subplots(figsize=(16, 8))\n",
    "ax.bar(['hit', 'miss'], [hit, miss], color=['#83EFEF', '#FF7B7B'])\n",
    "\n",
    "ax.text('hit', hit/2-200, hit, ha='center', size=20)\n",
    "ax.text('miss', miss/2-200, miss, ha='center', size=20)\n",
    "ax.set_title('Cache com Mapeamento Associativo em Conjunto de 2 Vias', fontsize=20)\n",
    "\n",
    "plt.xticks(fontsize=16)\n",
    "plt.show()"
   ]
  }
 ],
 "metadata": {
  "kernelspec": {
   "display_name": "Python 3",
   "language": "python",
   "name": "python3"
  },
  "language_info": {
   "codemirror_mode": {
    "name": "ipython",
    "version": 3
   },
   "file_extension": ".py",
   "mimetype": "text/x-python",
   "name": "python",
   "nbconvert_exporter": "python",
   "pygments_lexer": "ipython3",
   "version": "3.9.10"
  },
  "latex_envs": {
   "LaTeX_envs_menu_present": true,
   "autoclose": false,
   "autocomplete": true,
   "bibliofile": "biblio.bib",
   "cite_by": "apalike",
   "current_citInitial": 1,
   "eqLabelWithNumbers": true,
   "eqNumInitial": 1,
   "hotkeys": {
    "equation": "Ctrl-E",
    "itemize": "Ctrl-I"
   },
   "labels_anchors": false,
   "latex_user_defs": false,
   "report_style_numbering": false,
   "user_envs_cfg": false
  }
 },
 "nbformat": 4,
 "nbformat_minor": 5
}
